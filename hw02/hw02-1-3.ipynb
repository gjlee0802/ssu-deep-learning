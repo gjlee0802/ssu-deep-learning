{
 "cells": [
  {
   "cell_type": "markdown",
   "metadata": {},
   "source": [
    "1-(3) 문제"
   ]
  },
  {
   "cell_type": "code",
   "execution_count": 8,
   "metadata": {},
   "outputs": [
    {
     "name": "stdout",
     "output_type": "stream",
     "text": [
      "\n",
      "idx: 0, [x1, x2]: [1.  0.9]\n",
      "f(x1, x2): -19.88\n",
      "grad(0): [2.7 8.6], p*grad: [0.27 0.86]\n",
      "\n",
      "idx: 1, [x1, x2]: [0.73 0.04]\n",
      "f(x1, x2): -25.6834\n",
      "grad(1): [-0.96  4.35], p*grad: [-0.096  0.435]\n",
      "\n",
      "idx: 2, [x1, x2]: [ 0.826 -0.395]\n",
      "f(x1, x2): -27.396208\n",
      "grad(2): [-1.881  2.898], p*grad: [-0.1881  0.2898]\n",
      "\n",
      "idx: 3, [x1, x2]: [ 1.0141 -0.6848]\n",
      "f(x1, x2): -28.514667340000003\n",
      "grad(3): [-1.998   2.3031], p*grad: [-0.1998   0.23031]\n",
      "\n",
      "idx: 5, [x1, x2]: [ 1.402873 -1.113236]\n",
      "f(x1, x2): -30.108456089434\n",
      "grad(5): [-1.728216  1.755675], p*grad: [-0.1728216  0.1755675]\n",
      "\n",
      "idx: 10, [x1, x2]: [ 2.11426051 -1.82853669]\n",
      "f(x1, x2): -32.084836306123705\n",
      "grad(10): [-1.02856804  1.02863476], p*grad: [-0.1028568   0.10286348]\n",
      "\n",
      "idx: 15, [x1, x2]: [ 2.53547831 -2.24976401]\n",
      "f(x1, x2): -32.77394808796707\n",
      "grad(15): [-0.60737876  0.60737892], p*grad: [-0.06073788  0.06073789]\n",
      "\n",
      "idx: 20, [x1, x2]: [ 2.78420601 -2.49849173]\n",
      "f(x1, x2): -33.014226509059306\n",
      "grad(20): [-0.35865113  0.35865113], p*grad: [-0.03586511  0.03586511]\n",
      "\n",
      "idx: 25, [x1, x2]: [ 2.93107724 -2.64536295]\n",
      "f(x1, x2): -33.098006414115446\n",
      "grad(25): [-0.21177991  0.21177991], p*grad: [-0.02117799  0.02117799]\n",
      "\n",
      "idx: 30, [x1, x2]: [ 3.01780323 -2.73208894]\n",
      "f(x1, x2): -33.127218660722136\n",
      "grad(30): [-0.12505392  0.12505392], p*grad: [-0.01250539  0.01250539]\n",
      "\n",
      "idx: 35, [x1, x2]: [ 3.06901406 -2.78329977]\n",
      "f(x1, x2): -33.13740434130078\n",
      "grad(35): [-0.07384309  0.07384309], p*grad: [-0.00738431  0.00738431]\n",
      "\n",
      "idx: 40, [x1, x2]: [ 3.09925354 -2.81353925]\n",
      "f(x1, x2): -33.14095586851629\n",
      "grad(40): [-0.0436036  0.0436036], p*grad: [-0.00436036  0.00436036]\n",
      "\n",
      "idx: 45, [x1, x2]: [ 3.11710965 -2.83139536]\n",
      "f(x1, x2): -33.14219420948578\n",
      "grad(45): [-0.02574749  0.02574749], p*grad: [-0.00257475  0.00257475]\n"
     ]
    }
   ],
   "source": [
    "import numpy as np\n",
    "\n",
    "p = 0.1\n",
    "\n",
    "def function(x_coordinate):\n",
    "    a = 2*(x_coordinate[0]**2) + 3*x_coordinate[0]*x_coordinate[1] \n",
    "    b = 2*(x_coordinate[1]**2) - 4*x_coordinate[0] +2*x_coordinate[1] -24\n",
    "    return  a+b\n",
    "\n",
    "\n",
    "def gradient(x_coordinate):\n",
    "    a = 4*x_coordinate[0] + 3*x_coordinate[1] - 4\n",
    "    b = 3*x_coordinate[0] + 4*x_coordinate[1] + 2\n",
    "    return a, b\n",
    "\n",
    "x_0 = np.array([1.0, 0.9])\n",
    "f_x0 = function(x_0)\n",
    "gradient_x0 = np.array(gradient(x_0))\n",
    "\n",
    "x_list = [x_0]\n",
    "for i in range(50):\n",
    "    grad = np.array(gradient(x_list[i]))\n",
    "    x_list.append(x_list[i] - p*grad)\n",
    "    if i <= 3 or i%5 == 0:\n",
    "        print()\n",
    "        print(\"idx: {}, [x1, x2]: {}\".format(i, x_list[i]))\n",
    "        print(\"f(x1, x2): {}\".format(function(x_list[i])))\n",
    "        print(\"grad({}): {}, p*grad: {}\".format(i,grad, p*grad))"
   ]
  },
  {
   "cell_type": "markdown",
   "metadata": {},
   "source": [
    "x1 = (0.73, 0.04), x2 = (0.826, -0.395), x3 = (1.0141, -0.6848)로 점차 변하고 좀더 연속적으로 계산을 하면 위의 (2)에서 구한 최소점으로 가고 점차 실제 함수 값도 최솟값으로 가는 경향을 확인을 할 수 있다."
   ]
  }
 ],
 "metadata": {
  "kernelspec": {
   "display_name": "Python 3",
   "language": "python",
   "name": "python3"
  },
  "language_info": {
   "codemirror_mode": {
    "name": "ipython",
    "version": 3
   },
   "file_extension": ".py",
   "mimetype": "text/x-python",
   "name": "python",
   "nbconvert_exporter": "python",
   "pygments_lexer": "ipython3",
   "version": "3.9.18"
  }
 },
 "nbformat": 4,
 "nbformat_minor": 2
}
